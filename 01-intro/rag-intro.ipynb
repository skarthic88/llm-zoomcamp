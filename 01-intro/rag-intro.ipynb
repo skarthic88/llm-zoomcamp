{
 "cells": [
  {
   "cell_type": "code",
   "execution_count": null,
   "id": "19b196d5-efb1-46f7-82c7-4a362a3737fd",
   "metadata": {},
   "outputs": [],
   "source": [
    "!wget Traceback (most recent call last):\n",
    "\n",
    "  File ~/.local/lib/python3.12/site-packages/IPython/core/interactiveshell.py:3670 in run_code\n",
    "    exec(code_obj, self.user_global_ns, self.user_ns)\n",
    "\n",
    "  Cell In[8], line 1\n",
    "    import minsearch\n",
    "\n",
    "  File /workspaces/llm-zoomcamp/01-intro/minsearch.py:108\n",
    "    <title>minsearch/minsearch.py at main · alexeygrigorev/minsearch · GitHub</title>\n",
    "                                          ^\n",
    "SyntaxError: invalid character '·' (U+00B7)"
   ]
  },
  {
   "cell_type": "code",
   "execution_count": null,
   "id": "4bc0103b-f957-4db2-bd67-a549a3b06a9c",
   "metadata": {},
   "outputs": [],
   "source": [
    "import minsearch"
   ]
  },
  {
   "cell_type": "code",
   "execution_count": null,
   "id": "f03825cf-a5e4-41bb-b4f8-033ce08efa8e",
   "metadata": {},
   "outputs": [],
   "source": [
    "import json"
   ]
  },
  {
   "cell_type": "code",
   "execution_count": null,
   "id": "b94f6ce7-80d7-4d25-a0e9-35354c57295d",
   "metadata": {},
   "outputs": [],
   "source": [
    "with open('documents.json', 'rt') as f_in:\n",
    "    docs_raw = json.load(f_in)"
   ]
  },
  {
   "cell_type": "code",
   "execution_count": null,
   "id": "47336908-4acb-4667-9d9a-6c908350044d",
   "metadata": {
    "scrolled": true
   },
   "outputs": [],
   "source": [
    "docs_raw"
   ]
  },
  {
   "cell_type": "code",
   "execution_count": null,
   "id": "c6156f53-d7a8-4693-ba4f-d8199238ffae",
   "metadata": {},
   "outputs": [],
   "source": [
    "documents = []\n",
    "\n",
    "for course_dict in docs_raw:\n",
    "    for doc in course_dict['documents']:\n",
    "        doc['course'] = course_dict['course']\n",
    "        documents.append(doc)"
   ]
  },
  {
   "cell_type": "code",
   "execution_count": null,
   "id": "a6db2f72-516b-408c-9f0c-4e3fe14a6cfe",
   "metadata": {},
   "outputs": [],
   "source": [
    "documents[0]"
   ]
  },
  {
   "cell_type": "code",
   "execution_count": null,
   "id": "f3280a49-2566-4eb9-8526-f481e52799cc",
   "metadata": {},
   "outputs": [],
   "source": [
    "index = minsearch.Index(\n",
    "    text_fields=[\"question\", \"text\", \"section\"],\n",
    "    keyword_fields=[\"course\"]\n",
    ")"
   ]
  },
  {
   "cell_type": "code",
   "execution_count": null,
   "id": "54dd2374-a921-4c82-b236-59671d2cf081",
   "metadata": {},
   "outputs": [],
   "source": []
  },
  {
   "cell_type": "code",
   "execution_count": null,
   "id": "705f5407-56e7-477a-87bd-1dcd0648b5f5",
   "metadata": {},
   "outputs": [],
   "source": [
    "q = 'the course has already started, can I still enroll?'"
   ]
  },
  {
   "cell_type": "code",
   "execution_count": null,
   "id": "15f90f43-1fe1-47df-ac41-de84e47eef00",
   "metadata": {},
   "outputs": [],
   "source": [
    "index.fit(documents)"
   ]
  },
  {
   "cell_type": "code",
   "execution_count": null,
   "id": "00c10150-a632-4ce1-80cf-8af3d245a5dc",
   "metadata": {},
   "outputs": [],
   "source": [
    "boost = {'question': 3.0, 'section': 0.5}\n",
    "\n",
    "results = index.search(\n",
    "    query= q,\n",
    "    filter_dict={'course': 'data-engineering-zoomcamp'},\n",
    "    boost_dict=boost,\n",
    "    num_results=5\n",
    ")"
   ]
  },
  {
   "cell_type": "code",
   "execution_count": null,
   "id": "352867e4-488b-409c-8a11-05d756a8ea62",
   "metadata": {},
   "outputs": [],
   "source": [
    "results"
   ]
  },
  {
   "cell_type": "code",
   "execution_count": null,
   "id": "ab199487-4dc3-4eeb-a2a8-bd80ec569f1c",
   "metadata": {},
   "outputs": [],
   "source": []
  }
 ],
 "metadata": {
  "kernelspec": {
   "display_name": "Python 3",
   "language": "python",
   "name": "python3"
  },
  "language_info": {
   "codemirror_mode": {
    "name": "ipython",
    "version": 3
   },
   "file_extension": ".py",
   "mimetype": "text/x-python",
   "name": "python",
   "nbconvert_exporter": "python",
   "pygments_lexer": "ipython3",
   "version": "3.12.1"
  }
 },
 "nbformat": 4,
 "nbformat_minor": 5
}
